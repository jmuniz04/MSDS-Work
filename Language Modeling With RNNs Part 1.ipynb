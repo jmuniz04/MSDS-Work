{
 "cells": [
  {
   "cell_type": "code",
   "execution_count": 1,
   "metadata": {},
   "outputs": [],
   "source": [
    "from IPython.core.interactiveshell import InteractiveShell\n",
    "InteractiveShell.ast_node_interactivity = \"all\""
   ]
  },
  {
   "cell_type": "markdown",
   "metadata": {},
   "source": [
    "Importing the necessary packages"
   ]
  },
  {
   "cell_type": "code",
   "execution_count": 2,
   "metadata": {},
   "outputs": [],
   "source": [
    "import os\n",
    "import numpy as np\n",
    "import glob\n",
    "from IPython.utils import io\n",
    "from tensorflow.keras.preprocessing.text import Tokenizer\n",
    "from tensorflow.keras.preprocessing.sequence import pad_sequences\n",
    "from tensorflow.keras import Input, Model\n",
    "from tensorflow.keras.layers import Embedding, Bidirectional, LSTM, RepeatVector, Dense\n",
    "from tensorflow.keras.optimizers import Nadam\n",
    "from tensorflow.keras.preprocessing.text import text_to_word_sequence\n",
    "from numpy import save, load\n",
    "from pickleshare import PickleShareDB\n",
    "import matplotlib.pyplot as plt\n",
    "import gc"
   ]
  },
  {
   "cell_type": "markdown",
   "metadata": {},
   "source": [
    "Importing the picklesharedb that was created in part 0. Displaying the keys that can be found in the db which contain the X train, val and test as well as ytest and ytrain."
   ]
  },
  {
   "cell_type": "code",
   "execution_count": 3,
   "metadata": {},
   "outputs": [],
   "source": [
    "db=PickleShareDB(r'C:\\Users\\jonah.muniz\\OneDrive - Accenture\\Masters Program\\Practical Machine Learning/assign4.pshare') "
   ]
  },
  {
   "cell_type": "markdown",
   "metadata": {},
   "source": [
    "Assiging the respective datasets needed to train, validate and test the autoencoder below."
   ]
  },
  {
   "cell_type": "code",
   "execution_count": 6,
   "metadata": {},
   "outputs": [],
   "source": [
    "XTrain=db['XTrain']\n",
    "XVal=db['XVal']\n",
    "XTest=db['XTest']\n",
    "yTrain=db['yTrain']\n",
    "yVal=db['yVal']\n",
    "yTest=db['yTest']"
   ]
  },
  {
   "cell_type": "markdown",
   "metadata": {},
   "source": [
    "Defining hyperparameters to ensure the maxlen of each embedding is 80, the max words is 10,000, batch size 32 and embedding dimensions equal to 100."
   ]
  },
  {
   "cell_type": "code",
   "execution_count": 7,
   "metadata": {},
   "outputs": [],
   "source": [
    "maxLen=80\n",
    "maxWords=10000\n",
    "batch_size=32\n",
    "emDim=100"
   ]
  },
  {
   "cell_type": "code",
   "execution_count": 8,
   "metadata": {},
   "outputs": [],
   "source": [
    "from tensorflow.keras.backend import clear_session\n",
    "clear_session()"
   ]
  },
  {
   "cell_type": "code",
   "execution_count": 9,
   "metadata": {},
   "outputs": [
    {
     "data": {
      "text/plain": [
       "50"
      ]
     },
     "execution_count": 9,
     "metadata": {},
     "output_type": "execute_result"
    }
   ],
   "source": [
    "gc.collect()"
   ]
  },
  {
   "cell_type": "markdown",
   "metadata": {},
   "source": [
    "Below the encoder portion of the autoencoder is created. Below in comments each section of code is described."
   ]
  },
  {
   "cell_type": "code",
   "execution_count": 10,
   "metadata": {},
   "outputs": [],
   "source": [
    "#Input shape is definded below and assigned to inputPadded variable. \n",
    "#Utilizing the maxLen hyperparameter set above, the input shape is set to 80,0 \n",
    "inputPadded=Input(shape=(maxLen,))\n",
    "#embedding layer is defined below. the embedding layer takes 3 inputs, input_dim = maxWords, output_dim = emDim, and input_length = maxLen \n",
    "embedLayer=Embedding(maxWords,output_dim=emDim,input_length=maxLen)\n",
    "#Embedding the inputdata and assigning it to x\n",
    "x = embedLayer(inputPadded)\n",
    "#defining the output as bidirectional, this propagates the inputs in the forward and reverse direction\n",
    "#and then combines the outputs. Long short term memory is used to understand context of words. Activation ReLu is used.\n",
    "state_hidden=Bidirectional(LSTM(32,activation='relu'))(x)\n",
    "# the input and output is fed into the the model which is defined below.\n",
    "encodeM=Model(inputs=inputPadded,outputs=state_hidden)\n",
    "#Output of the encoder is defined below\n",
    "decoderOut=encodeM(inputPadded)"
   ]
  },
  {
   "cell_type": "markdown",
   "metadata": {},
   "source": [
    "The decoder portion of the autoencoder is created below. Details of what each portion of code is doing is in the comments."
   ]
  },
  {
   "cell_type": "code",
   "execution_count": 11,
   "metadata": {},
   "outputs": [],
   "source": [
    "#creating the decoded variable utilizing repeat vector layers api to repeat the vector maxLen times for each encoder output\n",
    "decoded=RepeatVector(maxLen)(decoderOut)\n",
    "#decode bidirectional long short-term memory is defined below with return sequence set to true, which enables the bidirectional capability\n",
    "dec_lstm=Bidirectional(LSTM(32,return_sequences=True))\n",
    "#decode is then utilized with the decoded variable\n",
    "decoded_lstm_output=dec_lstm(decoded)\n",
    "#Creating a dense NN layer below with units = maxwords and activation of softmax as it is the output\n",
    "dec_dense=Dense(maxWords,activation='softmax')\n",
    "#using the decodeed_lstm_output as the input for the dense layer to get the output of the decode section\n",
    "decoder_outputs=dec_dense(decoded_lstm_output)"
   ]
  },
  {
   "cell_type": "markdown",
   "metadata": {},
   "source": [
    "Below is the completed autoencoder feed by the inputlayer out the encoder and output layer of the decoder"
   ]
  },
  {
   "cell_type": "code",
   "execution_count": 12,
   "metadata": {},
   "outputs": [],
   "source": [
    "autoEnc_Model=Model(inputPadded,decoder_outputs)"
   ]
  },
  {
   "cell_type": "markdown",
   "metadata": {},
   "source": [
    "One quick thing that you notice from summary that is different from the code used to create the autoencoder is that that shape is 80,64 for some of the layer even when 32 was defined in the autoencoder. It is 64 due to the fact that bidirectional was used for the amount is doubled. This is why you see 64 in summary but 32 in the autoencoder code."
   ]
  },
  {
   "cell_type": "code",
   "execution_count": 13,
   "metadata": {},
   "outputs": [
    {
     "name": "stdout",
     "output_type": "stream",
     "text": [
      "Model: \"model_1\"\n",
      "_________________________________________________________________\n",
      "Layer (type)                 Output Shape              Param #   \n",
      "=================================================================\n",
      "input_1 (InputLayer)         [(None, 80)]              0         \n",
      "_________________________________________________________________\n",
      "model (Functional)           (None, 64)                1034048   \n",
      "_________________________________________________________________\n",
      "repeat_vector (RepeatVector) (None, 80, 64)            0         \n",
      "_________________________________________________________________\n",
      "bidirectional_1 (Bidirection (None, 80, 64)            24832     \n",
      "_________________________________________________________________\n",
      "dense (Dense)                (None, 80, 10000)         650000    \n",
      "=================================================================\n",
      "Total params: 1,708,880\n",
      "Trainable params: 1,708,880\n",
      "Non-trainable params: 0\n",
      "_________________________________________________________________\n"
     ]
    }
   ],
   "source": [
    "autoEnc_Model.summary()"
   ]
  },
  {
   "cell_type": "markdown",
   "metadata": {},
   "source": [
    "Compiling the autoEnc_model with the Nadam optimizer with a learning rate of 0.0001. The loss function is set to sparse_categorical_crossentropy to save time in memory by only using a single integer for a class rather than a whole vector"
   ]
  },
  {
   "cell_type": "code",
   "execution_count": 14,
   "metadata": {},
   "outputs": [],
   "source": [
    "autoEnc_Model.compile(optimizer=Nadam(lr=0.0001),\n",
    "                      loss='sparse_categorical_crossentropy'\n",
    "                     )"
   ]
  },
  {
   "cell_type": "markdown",
   "metadata": {},
   "source": [
    "Utilizing early stopping with a patience of 3 and monitoring the val_loss. This means the model will stop either after 30 epochs have been completed or after 3 consecutive epochs where there is no improvement in val_loss"
   ]
  },
  {
   "cell_type": "code",
   "execution_count": 15,
   "metadata": {},
   "outputs": [],
   "source": [
    "from tensorflow.keras.callbacks import EarlyStopping\n",
    "callback=EarlyStopping(monitor='val_loss',patience=3)"
   ]
  },
  {
   "cell_type": "code",
   "execution_count": 16,
   "metadata": {},
   "outputs": [],
   "source": [
    "history=autoEnc_Model.fit(XTrain,np.expand_dims(XTrain,-1),\n",
    "                         batch_size=batch_size,\n",
    "                         epochs=30,\n",
    "                         validation_data=(XVal,XVal),\n",
    "                         verbose=0,\n",
    "                         callbacks=[callback])"
   ]
  },
  {
   "cell_type": "code",
   "execution_count": 17,
   "metadata": {},
   "outputs": [],
   "source": [
    "from plot_keras_history import plot_history "
   ]
  },
  {
   "cell_type": "code",
   "execution_count": 18,
   "metadata": {},
   "outputs": [
    {
     "data": {
      "image/png": "[encoded data removed]",
      "text/plain": [
       "<Figure size 360x360 with 1 Axes>"
      ]
     },
     "metadata": {
      "needs_background": "light"
     },
     "output_type": "display_data"
    }
   ],
   "source": [
    "plot_history(history.history)"
   ]
  },
  {
   "cell_type": "markdown",
   "metadata": {},
   "source": [
    "Utilizing the new autoencoder generating new embeddings for xtrain, xval and xtest below"
   ]
  },
  {
   "cell_type": "code",
   "execution_count": 19,
   "metadata": {},
   "outputs": [
    {
     "name": "stdout",
     "output_type": "stream",
     "text": [
      "WARNING:tensorflow:Model was constructed with shape (None, 80) for input KerasTensor(type_spec=TensorSpec(shape=(None, 80), dtype=tf.float32, name='input_1'), name='input_1', description=\"created by layer 'input_1'\"), but it was called on an input with incompatible shape (None, 1).\n"
     ]
    },
    {
     "data": {
      "text/plain": [
       "(2000, 64)"
      ]
     },
     "execution_count": 19,
     "metadata": {},
     "output_type": "execute_result"
    }
   ],
   "source": [
    "XTrainEm=encodeM.predict(XTrain)\n",
    "XTrainEm.shape\n",
    "yTrainEm=encodeM.predict(yTrain)\n",
    "yTrainEm.shape"
   ]
  },
  {
   "cell_type": "code",
   "execution_count": 20,
   "metadata": {},
   "outputs": [
    {
     "data": {
      "text/plain": [
       "(6000, 64)"
      ]
     },
     "execution_count": 20,
     "metadata": {},
     "output_type": "execute_result"
    }
   ],
   "source": [
    "XValEm=encodeM.predict(XVal)\n",
    "XValEm.shape\n",
    "yValEm=encodeM.predict(yVal)\n",
    "yValEm.shape"
   ]
  },
  {
   "cell_type": "code",
   "execution_count": 21,
   "metadata": {
    "scrolled": true
   },
   "outputs": [
    {
     "data": {
      "text/plain": [
       "(6000, 64)"
      ]
     },
     "execution_count": 21,
     "metadata": {},
     "output_type": "execute_result"
    }
   ],
   "source": [
    "XTestEm=encodeM.predict(XTest)\n",
    "XTestEm.shape\n",
    "yTestEm=encodeM.predict(yTest)\n",
    "yTestEm.shape"
   ]
  },
  {
   "cell_type": "markdown",
   "metadata": {},
   "source": [
    "As can be seen above, the Autoencoder reduced the len of the embeddings from 80 to 64. Saving the new XTrain, XVal and XTest embeddings generated by the autoencoder below."
   ]
  },
  {
   "cell_type": "code",
   "execution_count": 23,
   "metadata": {},
   "outputs": [],
   "source": [
    "db4 = PickleShareDB(r'C:\\Users\\jonah.muniz\\OneDrive - Accenture\\Masters Program\\Practical Machine Learning\\assign4.pshare')\n",
    "db4['XTrainEm']=XTrainEm\n",
    "db4['XValEm']=XValEm\n",
    "db4['XTestEm']=XTestEm\n",
    "db4['yTrainEm']=yTrain\n",
    "db4['yValEm']=yVal\n",
    "db4['yTestEm']=yTest"
   ]
  }
 ],
 "metadata": {
  "kernelspec": {
   "display_name": "Python 3",
   "language": "python",
   "name": "python3"
  },
  "language_info": {
   "codemirror_mode": {
    "name": "ipython",
    "version": 3
   },
   "file_extension": ".py",
   "mimetype": "text/x-python",
   "name": "python",
   "nbconvert_exporter": "python",
   "pygments_lexer": "ipython3",
   "version": "3.8.5"
  }
 },
 "nbformat": 4,
 "nbformat_minor": 4
}
